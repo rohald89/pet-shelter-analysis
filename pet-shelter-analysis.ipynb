{
 "cells": [
  {
   "cell_type": "code",
   "execution_count": 1,
   "id": "2026f1e6",
   "metadata": {},
   "outputs": [],
   "source": [
    "import pandas as pd\n",
    "intakes = pd.read_csv('data/aac_intakes.csv')\n",
    "outcomes = pd.read_csv('data/aac_outcomes.csv')"
   ]
  },
  {
   "cell_type": "code",
   "execution_count": 2,
   "id": "a7b7f451",
   "metadata": {},
   "outputs": [
    {
     "data": {
      "text/html": [
       "<div>\n",
       "<style scoped>\n",
       "    .dataframe tbody tr th:only-of-type {\n",
       "        vertical-align: middle;\n",
       "    }\n",
       "\n",
       "    .dataframe tbody tr th {\n",
       "        vertical-align: top;\n",
       "    }\n",
       "\n",
       "    .dataframe thead th {\n",
       "        text-align: right;\n",
       "    }\n",
       "</style>\n",
       "<table border=\"1\" class=\"dataframe\">\n",
       "  <thead>\n",
       "    <tr style=\"text-align: right;\">\n",
       "      <th></th>\n",
       "      <th>age_upon_intake</th>\n",
       "      <th>animal_id</th>\n",
       "      <th>animal_type</th>\n",
       "      <th>breed</th>\n",
       "      <th>color</th>\n",
       "      <th>datetime</th>\n",
       "      <th>datetime2</th>\n",
       "      <th>found_location</th>\n",
       "      <th>intake_condition</th>\n",
       "      <th>intake_type</th>\n",
       "      <th>name</th>\n",
       "      <th>sex_upon_intake</th>\n",
       "    </tr>\n",
       "  </thead>\n",
       "  <tbody>\n",
       "    <tr>\n",
       "      <th>count</th>\n",
       "      <td>80187</td>\n",
       "      <td>80187</td>\n",
       "      <td>80187</td>\n",
       "      <td>80187</td>\n",
       "      <td>80187</td>\n",
       "      <td>80187</td>\n",
       "      <td>80187</td>\n",
       "      <td>80187</td>\n",
       "      <td>80187</td>\n",
       "      <td>80187</td>\n",
       "      <td>55603</td>\n",
       "      <td>80186</td>\n",
       "    </tr>\n",
       "    <tr>\n",
       "      <th>unique</th>\n",
       "      <td>46</td>\n",
       "      <td>72365</td>\n",
       "      <td>5</td>\n",
       "      <td>2166</td>\n",
       "      <td>529</td>\n",
       "      <td>57055</td>\n",
       "      <td>57055</td>\n",
       "      <td>36772</td>\n",
       "      <td>8</td>\n",
       "      <td>5</td>\n",
       "      <td>14731</td>\n",
       "      <td>5</td>\n",
       "    </tr>\n",
       "    <tr>\n",
       "      <th>top</th>\n",
       "      <td>1 year</td>\n",
       "      <td>A721033</td>\n",
       "      <td>Dog</td>\n",
       "      <td>Domestic Shorthair Mix</td>\n",
       "      <td>Black/White</td>\n",
       "      <td>2016-09-23T12:00:00.000</td>\n",
       "      <td>2016-09-23T12:00:00.000</td>\n",
       "      <td>Austin (TX)</td>\n",
       "      <td>Normal</td>\n",
       "      <td>Stray</td>\n",
       "      <td>Bella</td>\n",
       "      <td>Intact Male</td>\n",
       "    </tr>\n",
       "    <tr>\n",
       "      <th>freq</th>\n",
       "      <td>14672</td>\n",
       "      <td>13</td>\n",
       "      <td>45743</td>\n",
       "      <td>23519</td>\n",
       "      <td>8340</td>\n",
       "      <td>64</td>\n",
       "      <td>64</td>\n",
       "      <td>14443</td>\n",
       "      <td>70520</td>\n",
       "      <td>56280</td>\n",
       "      <td>357</td>\n",
       "      <td>25488</td>\n",
       "    </tr>\n",
       "  </tbody>\n",
       "</table>\n",
       "</div>"
      ],
      "text/plain": [
       "       age_upon_intake animal_id animal_type                   breed  \\\n",
       "count            80187     80187       80187                   80187   \n",
       "unique              46     72365           5                    2166   \n",
       "top             1 year   A721033         Dog  Domestic Shorthair Mix   \n",
       "freq             14672        13       45743                   23519   \n",
       "\n",
       "              color                 datetime                datetime2  \\\n",
       "count         80187                    80187                    80187   \n",
       "unique          529                    57055                    57055   \n",
       "top     Black/White  2016-09-23T12:00:00.000  2016-09-23T12:00:00.000   \n",
       "freq           8340                       64                       64   \n",
       "\n",
       "       found_location intake_condition intake_type   name sex_upon_intake  \n",
       "count           80187            80187       80187  55603           80186  \n",
       "unique          36772                8           5  14731               5  \n",
       "top       Austin (TX)           Normal       Stray  Bella     Intact Male  \n",
       "freq            14443            70520       56280    357           25488  "
      ]
     },
     "execution_count": 2,
     "metadata": {},
     "output_type": "execute_result"
    }
   ],
   "source": [
    "intakes.describe()"
   ]
  },
  {
   "cell_type": "code",
   "execution_count": 3,
   "id": "fa3ae6fb",
   "metadata": {},
   "outputs": [
    {
     "data": {
      "text/html": [
       "<div>\n",
       "<style scoped>\n",
       "    .dataframe tbody tr th:only-of-type {\n",
       "        vertical-align: middle;\n",
       "    }\n",
       "\n",
       "    .dataframe tbody tr th {\n",
       "        vertical-align: top;\n",
       "    }\n",
       "\n",
       "    .dataframe thead th {\n",
       "        text-align: right;\n",
       "    }\n",
       "</style>\n",
       "<table border=\"1\" class=\"dataframe\">\n",
       "  <thead>\n",
       "    <tr style=\"text-align: right;\">\n",
       "      <th></th>\n",
       "      <th>age_upon_outcome</th>\n",
       "      <th>animal_id</th>\n",
       "      <th>animal_type</th>\n",
       "      <th>breed</th>\n",
       "      <th>color</th>\n",
       "      <th>date_of_birth</th>\n",
       "      <th>datetime</th>\n",
       "      <th>monthyear</th>\n",
       "      <th>name</th>\n",
       "      <th>outcome_subtype</th>\n",
       "      <th>outcome_type</th>\n",
       "      <th>sex_upon_outcome</th>\n",
       "    </tr>\n",
       "  </thead>\n",
       "  <tbody>\n",
       "    <tr>\n",
       "      <th>count</th>\n",
       "      <td>80673</td>\n",
       "      <td>80681</td>\n",
       "      <td>80681</td>\n",
       "      <td>80681</td>\n",
       "      <td>80681</td>\n",
       "      <td>80681</td>\n",
       "      <td>80681</td>\n",
       "      <td>80681</td>\n",
       "      <td>56116</td>\n",
       "      <td>36893</td>\n",
       "      <td>80667</td>\n",
       "      <td>80679</td>\n",
       "    </tr>\n",
       "    <tr>\n",
       "      <th>unique</th>\n",
       "      <td>46</td>\n",
       "      <td>72877</td>\n",
       "      <td>5</td>\n",
       "      <td>2176</td>\n",
       "      <td>532</td>\n",
       "      <td>5956</td>\n",
       "      <td>66474</td>\n",
       "      <td>66474</td>\n",
       "      <td>14824</td>\n",
       "      <td>19</td>\n",
       "      <td>9</td>\n",
       "      <td>5</td>\n",
       "    </tr>\n",
       "    <tr>\n",
       "      <th>top</th>\n",
       "      <td>1 year</td>\n",
       "      <td>A721033</td>\n",
       "      <td>Dog</td>\n",
       "      <td>Domestic Shorthair Mix</td>\n",
       "      <td>Black/White</td>\n",
       "      <td>2015-09-01T00:00:00</td>\n",
       "      <td>2016-04-18T00:00:00</td>\n",
       "      <td>2016-04-18T00:00:00</td>\n",
       "      <td>Bella</td>\n",
       "      <td>Partner</td>\n",
       "      <td>Adoption</td>\n",
       "      <td>Neutered Male</td>\n",
       "    </tr>\n",
       "    <tr>\n",
       "      <th>freq</th>\n",
       "      <td>14911</td>\n",
       "      <td>13</td>\n",
       "      <td>45856</td>\n",
       "      <td>23821</td>\n",
       "      <td>8396</td>\n",
       "      <td>112</td>\n",
       "      <td>39</td>\n",
       "      <td>39</td>\n",
       "      <td>362</td>\n",
       "      <td>20082</td>\n",
       "      <td>34232</td>\n",
       "      <td>28702</td>\n",
       "    </tr>\n",
       "  </tbody>\n",
       "</table>\n",
       "</div>"
      ],
      "text/plain": [
       "       age_upon_outcome animal_id animal_type                   breed  \\\n",
       "count             80673     80681       80681                   80681   \n",
       "unique               46     72877           5                    2176   \n",
       "top              1 year   A721033         Dog  Domestic Shorthair Mix   \n",
       "freq              14911        13       45856                   23821   \n",
       "\n",
       "              color        date_of_birth             datetime  \\\n",
       "count         80681                80681                80681   \n",
       "unique          532                 5956                66474   \n",
       "top     Black/White  2015-09-01T00:00:00  2016-04-18T00:00:00   \n",
       "freq           8396                  112                   39   \n",
       "\n",
       "                  monthyear   name outcome_subtype outcome_type  \\\n",
       "count                 80681  56116           36893        80667   \n",
       "unique                66474  14824              19            9   \n",
       "top     2016-04-18T00:00:00  Bella         Partner     Adoption   \n",
       "freq                     39    362           20082        34232   \n",
       "\n",
       "       sex_upon_outcome  \n",
       "count             80679  \n",
       "unique                5  \n",
       "top       Neutered Male  \n",
       "freq              28702  "
      ]
     },
     "execution_count": 3,
     "metadata": {},
     "output_type": "execute_result"
    }
   ],
   "source": [
    "outcomes.describe()"
   ]
  },
  {
   "cell_type": "code",
   "execution_count": 4,
   "id": "322775ad",
   "metadata": {},
   "outputs": [
    {
     "data": {
      "text/plain": [
       "(80187, 80681)"
      ]
     },
     "execution_count": 4,
     "metadata": {},
     "output_type": "execute_result"
    }
   ],
   "source": [
    "len(intakes), len(outcomes)"
   ]
  },
  {
   "cell_type": "code",
   "execution_count": 5,
   "id": "6d8b0fd2",
   "metadata": {},
   "outputs": [
    {
     "data": {
      "text/plain": [
       "((80187, 12), (80681, 12))"
      ]
     },
     "execution_count": 5,
     "metadata": {},
     "output_type": "execute_result"
    }
   ],
   "source": [
    "intakes.shape, outcomes.shape"
   ]
  },
  {
   "cell_type": "code",
   "execution_count": 6,
   "id": "f92f9a09",
   "metadata": {},
   "outputs": [
    {
     "data": {
      "text/plain": [
       "age_upon_intake     object\n",
       "animal_id           object\n",
       "animal_type         object\n",
       "breed               object\n",
       "color               object\n",
       "datetime            object\n",
       "datetime2           object\n",
       "found_location      object\n",
       "intake_condition    object\n",
       "intake_type         object\n",
       "name                object\n",
       "sex_upon_intake     object\n",
       "dtype: object"
      ]
     },
     "execution_count": 6,
     "metadata": {},
     "output_type": "execute_result"
    }
   ],
   "source": [
    "intakes.dtypes"
   ]
  },
  {
   "cell_type": "code",
   "execution_count": 7,
   "id": "b1930af4",
   "metadata": {},
   "outputs": [
    {
     "data": {
      "text/plain": [
       "age_upon_outcome    object\n",
       "animal_id           object\n",
       "animal_type         object\n",
       "breed               object\n",
       "color               object\n",
       "date_of_birth       object\n",
       "datetime            object\n",
       "monthyear           object\n",
       "name                object\n",
       "outcome_subtype     object\n",
       "outcome_type        object\n",
       "sex_upon_outcome    object\n",
       "dtype: object"
      ]
     },
     "execution_count": 7,
     "metadata": {},
     "output_type": "execute_result"
    }
   ],
   "source": [
    "outcomes.dtypes"
   ]
  },
  {
   "cell_type": "code",
   "execution_count": 8,
   "id": "b8cb73f2",
   "metadata": {},
   "outputs": [
    {
     "data": {
      "text/html": [
       "<div>\n",
       "<style scoped>\n",
       "    .dataframe tbody tr th:only-of-type {\n",
       "        vertical-align: middle;\n",
       "    }\n",
       "\n",
       "    .dataframe tbody tr th {\n",
       "        vertical-align: top;\n",
       "    }\n",
       "\n",
       "    .dataframe thead th {\n",
       "        text-align: right;\n",
       "    }\n",
       "</style>\n",
       "<table border=\"1\" class=\"dataframe\">\n",
       "  <thead>\n",
       "    <tr style=\"text-align: right;\">\n",
       "      <th></th>\n",
       "      <th>age_upon_intake</th>\n",
       "      <th>animal_id</th>\n",
       "      <th>animal_type</th>\n",
       "      <th>breed</th>\n",
       "      <th>color</th>\n",
       "      <th>datetime</th>\n",
       "      <th>datetime2</th>\n",
       "      <th>found_location</th>\n",
       "      <th>intake_condition</th>\n",
       "      <th>intake_type</th>\n",
       "      <th>name</th>\n",
       "      <th>sex_upon_intake</th>\n",
       "    </tr>\n",
       "  </thead>\n",
       "  <tbody>\n",
       "    <tr>\n",
       "      <th>0</th>\n",
       "      <td>8 years</td>\n",
       "      <td>A706918</td>\n",
       "      <td>Dog</td>\n",
       "      <td>English Springer Spaniel</td>\n",
       "      <td>White/Liver</td>\n",
       "      <td>2015-07-05T12:59:00.000</td>\n",
       "      <td>2015-07-05T12:59:00.000</td>\n",
       "      <td>9409 Bluegrass Dr in Austin (TX)</td>\n",
       "      <td>Normal</td>\n",
       "      <td>Stray</td>\n",
       "      <td>Belle</td>\n",
       "      <td>Spayed Female</td>\n",
       "    </tr>\n",
       "  </tbody>\n",
       "</table>\n",
       "</div>"
      ],
      "text/plain": [
       "  age_upon_intake animal_id animal_type                     breed  \\\n",
       "0         8 years   A706918         Dog  English Springer Spaniel   \n",
       "\n",
       "         color                 datetime                datetime2  \\\n",
       "0  White/Liver  2015-07-05T12:59:00.000  2015-07-05T12:59:00.000   \n",
       "\n",
       "                     found_location intake_condition intake_type   name  \\\n",
       "0  9409 Bluegrass Dr in Austin (TX)           Normal       Stray  Belle   \n",
       "\n",
       "  sex_upon_intake  \n",
       "0   Spayed Female  "
      ]
     },
     "execution_count": 8,
     "metadata": {},
     "output_type": "execute_result"
    }
   ],
   "source": [
    "intakes.head(1)"
   ]
  },
  {
   "cell_type": "code",
   "execution_count": 9,
   "id": "74d6f820",
   "metadata": {},
   "outputs": [
    {
     "data": {
      "text/html": [
       "<div>\n",
       "<style scoped>\n",
       "    .dataframe tbody tr th:only-of-type {\n",
       "        vertical-align: middle;\n",
       "    }\n",
       "\n",
       "    .dataframe tbody tr th {\n",
       "        vertical-align: top;\n",
       "    }\n",
       "\n",
       "    .dataframe thead th {\n",
       "        text-align: right;\n",
       "    }\n",
       "</style>\n",
       "<table border=\"1\" class=\"dataframe\">\n",
       "  <thead>\n",
       "    <tr style=\"text-align: right;\">\n",
       "      <th></th>\n",
       "      <th>age_upon_outcome</th>\n",
       "      <th>animal_id</th>\n",
       "      <th>animal_type</th>\n",
       "      <th>breed</th>\n",
       "      <th>color</th>\n",
       "      <th>date_of_birth</th>\n",
       "      <th>datetime</th>\n",
       "      <th>monthyear</th>\n",
       "      <th>name</th>\n",
       "      <th>outcome_subtype</th>\n",
       "      <th>outcome_type</th>\n",
       "      <th>sex_upon_outcome</th>\n",
       "    </tr>\n",
       "  </thead>\n",
       "  <tbody>\n",
       "    <tr>\n",
       "      <th>0</th>\n",
       "      <td>2 weeks</td>\n",
       "      <td>A684346</td>\n",
       "      <td>Cat</td>\n",
       "      <td>Domestic Shorthair Mix</td>\n",
       "      <td>Orange Tabby</td>\n",
       "      <td>2014-07-07T00:00:00</td>\n",
       "      <td>2014-07-22T16:04:00</td>\n",
       "      <td>2014-07-22T16:04:00</td>\n",
       "      <td>NaN</td>\n",
       "      <td>Partner</td>\n",
       "      <td>Transfer</td>\n",
       "      <td>Intact Male</td>\n",
       "    </tr>\n",
       "  </tbody>\n",
       "</table>\n",
       "</div>"
      ],
      "text/plain": [
       "  age_upon_outcome animal_id animal_type                   breed  \\\n",
       "0          2 weeks   A684346         Cat  Domestic Shorthair Mix   \n",
       "\n",
       "          color        date_of_birth             datetime  \\\n",
       "0  Orange Tabby  2014-07-07T00:00:00  2014-07-22T16:04:00   \n",
       "\n",
       "             monthyear name outcome_subtype outcome_type sex_upon_outcome  \n",
       "0  2014-07-22T16:04:00  NaN         Partner     Transfer      Intact Male  "
      ]
     },
     "execution_count": 9,
     "metadata": {},
     "output_type": "execute_result"
    }
   ],
   "source": [
    "outcomes.head(1)"
   ]
  },
  {
   "cell_type": "markdown",
   "id": "466e9607",
   "metadata": {},
   "source": [
    "# Cleaning the data"
   ]
  },
  {
   "cell_type": "code",
   "execution_count": 10,
   "id": "e752c2e7",
   "metadata": {},
   "outputs": [],
   "source": [
    "intakes['datetime'] = pd.to_datetime(intakes['datetime'])\n",
    "intakes.rename(columns={'datetime': 'intake_date'}, inplace=True)\n",
    "intakes['datetime2'] = pd.to_datetime(intakes['datetime2']).dt.to_period('M')\n",
    "intakes.rename(columns={'datetime2': 'intake_monthyear'}, inplace=True)"
   ]
  },
  {
   "cell_type": "code",
   "execution_count": 11,
   "id": "77041dd4",
   "metadata": {},
   "outputs": [
    {
     "data": {
      "text/plain": [
       "age_upon_intake             object\n",
       "animal_id                   object\n",
       "animal_type                 object\n",
       "breed                       object\n",
       "color                       object\n",
       "intake_date         datetime64[ns]\n",
       "intake_monthyear         period[M]\n",
       "found_location              object\n",
       "intake_condition            object\n",
       "intake_type                 object\n",
       "name                        object\n",
       "sex_upon_intake             object\n",
       "dtype: object"
      ]
     },
     "execution_count": 11,
     "metadata": {},
     "output_type": "execute_result"
    }
   ],
   "source": [
    "intakes.dtypes"
   ]
  },
  {
   "cell_type": "markdown",
   "id": "c859a313",
   "metadata": {},
   "source": [
    "## Is there an area where more pets are found?\n",
    "\n",
    "Find the top 5 places where animals are found so the shelter can coordinate with local volunteers and animal control to monitor these areas. "
   ]
  },
  {
   "cell_type": "code",
   "execution_count": 12,
   "id": "6ac7a947",
   "metadata": {},
   "outputs": [
    {
     "data": {
      "text/plain": [
       "found_location\n",
       "Austin (TX)                          14443\n",
       "Outside Jurisdiction                   948\n",
       "Travis (TX)                            921\n",
       "7201 Levander Loop in Austin (TX)      517\n",
       "Del Valle (TX)                         411\n",
       "dtype: int64"
      ]
     },
     "execution_count": 12,
     "metadata": {},
     "output_type": "execute_result"
    }
   ],
   "source": [
    "all_locations = intakes.groupby('found_location').size().sort_values(ascending=False).head(5)\n",
    "all_locations"
   ]
  },
  {
   "cell_type": "markdown",
   "id": "b236fcaa",
   "metadata": {},
   "source": [
    "## What is the average number of pets found in a month in the year 2015?"
   ]
  },
  {
   "cell_type": "code",
   "execution_count": 22,
   "id": "4ba40baa",
   "metadata": {},
   "outputs": [
    {
     "data": {
      "text/plain": [
       "1556.5833333333333"
      ]
     },
     "execution_count": 22,
     "metadata": {},
     "output_type": "execute_result"
    }
   ],
   "source": [
    "intakes_in_2015 = intakes[\n",
    "    (intakes['intake_date'] > pd.Timestamp(2015,1,1))\n",
    "    &\n",
    "    (intakes['intake_date'] < pd.Timestamp(2015, 12, 31))\n",
    "]\n",
    "avg_per_month = len(intakes_in_2015) / 12\n",
    "avg_per_month"
   ]
  },
  {
   "cell_type": "markdown",
   "id": "8c9447d3",
   "metadata": {},
   "source": [
    "### Are there months where there is a higher number of animals found?"
   ]
  },
  {
   "cell_type": "code",
   "execution_count": 34,
   "id": "a7d852d1",
   "metadata": {},
   "outputs": [
    {
     "data": {
      "text/plain": [
       "intake_monthyear\n",
       "2015-06    2189\n",
       "2015-05    2094\n",
       "2015-10    1740\n",
       "2015-08    1718\n",
       "2015-07    1635\n",
       "2015-09    1591\n",
       "Freq: M, dtype: int64"
      ]
     },
     "execution_count": 34,
     "metadata": {},
     "output_type": "execute_result"
    }
   ],
   "source": [
    "intakes_per_month = intakes_in_2015.groupby(by=[intakes_in_2015['intake_monthyear']]).size().sort_values(ascending=False)\n",
    "above_average = intakes_per_month[intakes_per_month > avg_per_month]\n",
    "above_average"
   ]
  },
  {
   "cell_type": "code",
   "execution_count": null,
   "id": "964ecdcd",
   "metadata": {},
   "outputs": [],
   "source": []
  }
 ],
 "metadata": {
  "kernelspec": {
   "display_name": "Python 3 (ipykernel)",
   "language": "python",
   "name": "python3"
  },
  "language_info": {
   "codemirror_mode": {
    "name": "ipython",
    "version": 3
   },
   "file_extension": ".py",
   "mimetype": "text/x-python",
   "name": "python",
   "nbconvert_exporter": "python",
   "pygments_lexer": "ipython3",
   "version": "3.9.7"
  }
 },
 "nbformat": 4,
 "nbformat_minor": 5
}
